{
  "cells": [
    {
      "cell_type": "markdown",
      "metadata": {
        "id": "HP1DCbaZtFqY"
      },
      "source": [
        "### Stock Market Prediction And Forecasting Using Stacked LSTM"
      ]
    },
    {
      "cell_type": "code",
      "execution_count": 1,
      "metadata": {
        "id": "mV8VVCJ_tFqb"
      },
      "outputs": [],
      "source": [
        "import pandas as pd"
      ]
    },
    {
      "cell_type": "code",
      "execution_count": 2,
      "metadata": {
        "id": "GUqk4MbYtFqd"
      },
      "outputs": [],
      "source": [
        "df=pd.read_csv('https://raw.githubusercontent.com/mwitiderrick/stockprice/master/NSE-TATAGLOBAL.csv')"
      ]
    },
    {
      "cell_type": "code",
      "execution_count": 3,
      "metadata": {
        "colab": {
          "base_uri": "https://localhost:8080/",
          "height": 206
        },
        "id": "ftlJOKo9tFqe",
        "outputId": "136ea73d-c0d2-45a9-8f9f-7d360536f01a"
      },
      "outputs": [
        {
          "output_type": "execute_result",
          "data": {
            "text/plain": [
              "         Date    Open    High     Low    Last   Close  Total Trade Quantity  \\\n",
              "0  2018-09-28  234.05  235.95  230.20  233.50  233.75               3069914   \n",
              "1  2018-09-27  234.55  236.80  231.10  233.80  233.25               5082859   \n",
              "2  2018-09-26  240.00  240.00  232.50  235.00  234.25               2240909   \n",
              "3  2018-09-25  233.30  236.75  232.00  236.25  236.10               2349368   \n",
              "4  2018-09-24  233.55  239.20  230.75  234.00  233.30               3423509   \n",
              "\n",
              "   Turnover (Lacs)  \n",
              "0          7162.35  \n",
              "1         11859.95  \n",
              "2          5248.60  \n",
              "3          5503.90  \n",
              "4          7999.55  "
            ],
            "text/html": [
              "\n",
              "  <div id=\"df-ca5b6b11-0220-4ec2-9699-491fe9f1ca46\">\n",
              "    <div class=\"colab-df-container\">\n",
              "      <div>\n",
              "<style scoped>\n",
              "    .dataframe tbody tr th:only-of-type {\n",
              "        vertical-align: middle;\n",
              "    }\n",
              "\n",
              "    .dataframe tbody tr th {\n",
              "        vertical-align: top;\n",
              "    }\n",
              "\n",
              "    .dataframe thead th {\n",
              "        text-align: right;\n",
              "    }\n",
              "</style>\n",
              "<table border=\"1\" class=\"dataframe\">\n",
              "  <thead>\n",
              "    <tr style=\"text-align: right;\">\n",
              "      <th></th>\n",
              "      <th>Date</th>\n",
              "      <th>Open</th>\n",
              "      <th>High</th>\n",
              "      <th>Low</th>\n",
              "      <th>Last</th>\n",
              "      <th>Close</th>\n",
              "      <th>Total Trade Quantity</th>\n",
              "      <th>Turnover (Lacs)</th>\n",
              "    </tr>\n",
              "  </thead>\n",
              "  <tbody>\n",
              "    <tr>\n",
              "      <th>0</th>\n",
              "      <td>2018-09-28</td>\n",
              "      <td>234.05</td>\n",
              "      <td>235.95</td>\n",
              "      <td>230.20</td>\n",
              "      <td>233.50</td>\n",
              "      <td>233.75</td>\n",
              "      <td>3069914</td>\n",
              "      <td>7162.35</td>\n",
              "    </tr>\n",
              "    <tr>\n",
              "      <th>1</th>\n",
              "      <td>2018-09-27</td>\n",
              "      <td>234.55</td>\n",
              "      <td>236.80</td>\n",
              "      <td>231.10</td>\n",
              "      <td>233.80</td>\n",
              "      <td>233.25</td>\n",
              "      <td>5082859</td>\n",
              "      <td>11859.95</td>\n",
              "    </tr>\n",
              "    <tr>\n",
              "      <th>2</th>\n",
              "      <td>2018-09-26</td>\n",
              "      <td>240.00</td>\n",
              "      <td>240.00</td>\n",
              "      <td>232.50</td>\n",
              "      <td>235.00</td>\n",
              "      <td>234.25</td>\n",
              "      <td>2240909</td>\n",
              "      <td>5248.60</td>\n",
              "    </tr>\n",
              "    <tr>\n",
              "      <th>3</th>\n",
              "      <td>2018-09-25</td>\n",
              "      <td>233.30</td>\n",
              "      <td>236.75</td>\n",
              "      <td>232.00</td>\n",
              "      <td>236.25</td>\n",
              "      <td>236.10</td>\n",
              "      <td>2349368</td>\n",
              "      <td>5503.90</td>\n",
              "    </tr>\n",
              "    <tr>\n",
              "      <th>4</th>\n",
              "      <td>2018-09-24</td>\n",
              "      <td>233.55</td>\n",
              "      <td>239.20</td>\n",
              "      <td>230.75</td>\n",
              "      <td>234.00</td>\n",
              "      <td>233.30</td>\n",
              "      <td>3423509</td>\n",
              "      <td>7999.55</td>\n",
              "    </tr>\n",
              "  </tbody>\n",
              "</table>\n",
              "</div>\n",
              "      <button class=\"colab-df-convert\" onclick=\"convertToInteractive('df-ca5b6b11-0220-4ec2-9699-491fe9f1ca46')\"\n",
              "              title=\"Convert this dataframe to an interactive table.\"\n",
              "              style=\"display:none;\">\n",
              "        \n",
              "  <svg xmlns=\"http://www.w3.org/2000/svg\" height=\"24px\"viewBox=\"0 0 24 24\"\n",
              "       width=\"24px\">\n",
              "    <path d=\"M0 0h24v24H0V0z\" fill=\"none\"/>\n",
              "    <path d=\"M18.56 5.44l.94 2.06.94-2.06 2.06-.94-2.06-.94-.94-2.06-.94 2.06-2.06.94zm-11 1L8.5 8.5l.94-2.06 2.06-.94-2.06-.94L8.5 2.5l-.94 2.06-2.06.94zm10 10l.94 2.06.94-2.06 2.06-.94-2.06-.94-.94-2.06-.94 2.06-2.06.94z\"/><path d=\"M17.41 7.96l-1.37-1.37c-.4-.4-.92-.59-1.43-.59-.52 0-1.04.2-1.43.59L10.3 9.45l-7.72 7.72c-.78.78-.78 2.05 0 2.83L4 21.41c.39.39.9.59 1.41.59.51 0 1.02-.2 1.41-.59l7.78-7.78 2.81-2.81c.8-.78.8-2.07 0-2.86zM5.41 20L4 18.59l7.72-7.72 1.47 1.35L5.41 20z\"/>\n",
              "  </svg>\n",
              "      </button>\n",
              "      \n",
              "  <style>\n",
              "    .colab-df-container {\n",
              "      display:flex;\n",
              "      flex-wrap:wrap;\n",
              "      gap: 12px;\n",
              "    }\n",
              "\n",
              "    .colab-df-convert {\n",
              "      background-color: #E8F0FE;\n",
              "      border: none;\n",
              "      border-radius: 50%;\n",
              "      cursor: pointer;\n",
              "      display: none;\n",
              "      fill: #1967D2;\n",
              "      height: 32px;\n",
              "      padding: 0 0 0 0;\n",
              "      width: 32px;\n",
              "    }\n",
              "\n",
              "    .colab-df-convert:hover {\n",
              "      background-color: #E2EBFA;\n",
              "      box-shadow: 0px 1px 2px rgba(60, 64, 67, 0.3), 0px 1px 3px 1px rgba(60, 64, 67, 0.15);\n",
              "      fill: #174EA6;\n",
              "    }\n",
              "\n",
              "    [theme=dark] .colab-df-convert {\n",
              "      background-color: #3B4455;\n",
              "      fill: #D2E3FC;\n",
              "    }\n",
              "\n",
              "    [theme=dark] .colab-df-convert:hover {\n",
              "      background-color: #434B5C;\n",
              "      box-shadow: 0px 1px 3px 1px rgba(0, 0, 0, 0.15);\n",
              "      filter: drop-shadow(0px 1px 2px rgba(0, 0, 0, 0.3));\n",
              "      fill: #FFFFFF;\n",
              "    }\n",
              "  </style>\n",
              "\n",
              "      <script>\n",
              "        const buttonEl =\n",
              "          document.querySelector('#df-ca5b6b11-0220-4ec2-9699-491fe9f1ca46 button.colab-df-convert');\n",
              "        buttonEl.style.display =\n",
              "          google.colab.kernel.accessAllowed ? 'block' : 'none';\n",
              "\n",
              "        async function convertToInteractive(key) {\n",
              "          const element = document.querySelector('#df-ca5b6b11-0220-4ec2-9699-491fe9f1ca46');\n",
              "          const dataTable =\n",
              "            await google.colab.kernel.invokeFunction('convertToInteractive',\n",
              "                                                     [key], {});\n",
              "          if (!dataTable) return;\n",
              "\n",
              "          const docLinkHtml = 'Like what you see? Visit the ' +\n",
              "            '<a target=\"_blank\" href=https://colab.research.google.com/notebooks/data_table.ipynb>data table notebook</a>'\n",
              "            + ' to learn more about interactive tables.';\n",
              "          element.innerHTML = '';\n",
              "          dataTable['output_type'] = 'display_data';\n",
              "          await google.colab.output.renderOutput(dataTable, element);\n",
              "          const docLink = document.createElement('div');\n",
              "          docLink.innerHTML = docLinkHtml;\n",
              "          element.appendChild(docLink);\n",
              "        }\n",
              "      </script>\n",
              "    </div>\n",
              "  </div>\n",
              "  "
            ]
          },
          "metadata": {},
          "execution_count": 3
        }
      ],
      "source": [
        "df.head()"
      ]
    },
    {
      "cell_type": "code",
      "execution_count": 4,
      "metadata": {
        "colab": {
          "base_uri": "https://localhost:8080/",
          "height": 206
        },
        "id": "Mqj7EHeZtFqf",
        "outputId": "20eb740d-5cab-431b-f790-2c8d7c3c0c8d"
      },
      "outputs": [
        {
          "output_type": "execute_result",
          "data": {
            "text/plain": [
              "            Date   Open    High     Low    Last   Close  Total Trade Quantity  \\\n",
              "2030  2010-07-27  117.6  119.50  112.00  118.80  118.65                586100   \n",
              "2031  2010-07-26  120.1  121.00  117.10  117.10  117.60                658440   \n",
              "2032  2010-07-23  121.8  121.95  120.25  120.35  120.65                281312   \n",
              "2033  2010-07-22  120.3  122.00  120.25  120.75  120.90                293312   \n",
              "2034  2010-07-21  122.1  123.00  121.05  121.10  121.55                658666   \n",
              "\n",
              "      Turnover (Lacs)  \n",
              "2030           694.98  \n",
              "2031           780.01  \n",
              "2032           340.31  \n",
              "2033           355.17  \n",
              "2034           803.56  "
            ],
            "text/html": [
              "\n",
              "  <div id=\"df-63c63d3c-c9e7-4a5b-9d25-10c1081b226a\">\n",
              "    <div class=\"colab-df-container\">\n",
              "      <div>\n",
              "<style scoped>\n",
              "    .dataframe tbody tr th:only-of-type {\n",
              "        vertical-align: middle;\n",
              "    }\n",
              "\n",
              "    .dataframe tbody tr th {\n",
              "        vertical-align: top;\n",
              "    }\n",
              "\n",
              "    .dataframe thead th {\n",
              "        text-align: right;\n",
              "    }\n",
              "</style>\n",
              "<table border=\"1\" class=\"dataframe\">\n",
              "  <thead>\n",
              "    <tr style=\"text-align: right;\">\n",
              "      <th></th>\n",
              "      <th>Date</th>\n",
              "      <th>Open</th>\n",
              "      <th>High</th>\n",
              "      <th>Low</th>\n",
              "      <th>Last</th>\n",
              "      <th>Close</th>\n",
              "      <th>Total Trade Quantity</th>\n",
              "      <th>Turnover (Lacs)</th>\n",
              "    </tr>\n",
              "  </thead>\n",
              "  <tbody>\n",
              "    <tr>\n",
              "      <th>2030</th>\n",
              "      <td>2010-07-27</td>\n",
              "      <td>117.6</td>\n",
              "      <td>119.50</td>\n",
              "      <td>112.00</td>\n",
              "      <td>118.80</td>\n",
              "      <td>118.65</td>\n",
              "      <td>586100</td>\n",
              "      <td>694.98</td>\n",
              "    </tr>\n",
              "    <tr>\n",
              "      <th>2031</th>\n",
              "      <td>2010-07-26</td>\n",
              "      <td>120.1</td>\n",
              "      <td>121.00</td>\n",
              "      <td>117.10</td>\n",
              "      <td>117.10</td>\n",
              "      <td>117.60</td>\n",
              "      <td>658440</td>\n",
              "      <td>780.01</td>\n",
              "    </tr>\n",
              "    <tr>\n",
              "      <th>2032</th>\n",
              "      <td>2010-07-23</td>\n",
              "      <td>121.8</td>\n",
              "      <td>121.95</td>\n",
              "      <td>120.25</td>\n",
              "      <td>120.35</td>\n",
              "      <td>120.65</td>\n",
              "      <td>281312</td>\n",
              "      <td>340.31</td>\n",
              "    </tr>\n",
              "    <tr>\n",
              "      <th>2033</th>\n",
              "      <td>2010-07-22</td>\n",
              "      <td>120.3</td>\n",
              "      <td>122.00</td>\n",
              "      <td>120.25</td>\n",
              "      <td>120.75</td>\n",
              "      <td>120.90</td>\n",
              "      <td>293312</td>\n",
              "      <td>355.17</td>\n",
              "    </tr>\n",
              "    <tr>\n",
              "      <th>2034</th>\n",
              "      <td>2010-07-21</td>\n",
              "      <td>122.1</td>\n",
              "      <td>123.00</td>\n",
              "      <td>121.05</td>\n",
              "      <td>121.10</td>\n",
              "      <td>121.55</td>\n",
              "      <td>658666</td>\n",
              "      <td>803.56</td>\n",
              "    </tr>\n",
              "  </tbody>\n",
              "</table>\n",
              "</div>\n",
              "      <button class=\"colab-df-convert\" onclick=\"convertToInteractive('df-63c63d3c-c9e7-4a5b-9d25-10c1081b226a')\"\n",
              "              title=\"Convert this dataframe to an interactive table.\"\n",
              "              style=\"display:none;\">\n",
              "        \n",
              "  <svg xmlns=\"http://www.w3.org/2000/svg\" height=\"24px\"viewBox=\"0 0 24 24\"\n",
              "       width=\"24px\">\n",
              "    <path d=\"M0 0h24v24H0V0z\" fill=\"none\"/>\n",
              "    <path d=\"M18.56 5.44l.94 2.06.94-2.06 2.06-.94-2.06-.94-.94-2.06-.94 2.06-2.06.94zm-11 1L8.5 8.5l.94-2.06 2.06-.94-2.06-.94L8.5 2.5l-.94 2.06-2.06.94zm10 10l.94 2.06.94-2.06 2.06-.94-2.06-.94-.94-2.06-.94 2.06-2.06.94z\"/><path d=\"M17.41 7.96l-1.37-1.37c-.4-.4-.92-.59-1.43-.59-.52 0-1.04.2-1.43.59L10.3 9.45l-7.72 7.72c-.78.78-.78 2.05 0 2.83L4 21.41c.39.39.9.59 1.41.59.51 0 1.02-.2 1.41-.59l7.78-7.78 2.81-2.81c.8-.78.8-2.07 0-2.86zM5.41 20L4 18.59l7.72-7.72 1.47 1.35L5.41 20z\"/>\n",
              "  </svg>\n",
              "      </button>\n",
              "      \n",
              "  <style>\n",
              "    .colab-df-container {\n",
              "      display:flex;\n",
              "      flex-wrap:wrap;\n",
              "      gap: 12px;\n",
              "    }\n",
              "\n",
              "    .colab-df-convert {\n",
              "      background-color: #E8F0FE;\n",
              "      border: none;\n",
              "      border-radius: 50%;\n",
              "      cursor: pointer;\n",
              "      display: none;\n",
              "      fill: #1967D2;\n",
              "      height: 32px;\n",
              "      padding: 0 0 0 0;\n",
              "      width: 32px;\n",
              "    }\n",
              "\n",
              "    .colab-df-convert:hover {\n",
              "      background-color: #E2EBFA;\n",
              "      box-shadow: 0px 1px 2px rgba(60, 64, 67, 0.3), 0px 1px 3px 1px rgba(60, 64, 67, 0.15);\n",
              "      fill: #174EA6;\n",
              "    }\n",
              "\n",
              "    [theme=dark] .colab-df-convert {\n",
              "      background-color: #3B4455;\n",
              "      fill: #D2E3FC;\n",
              "    }\n",
              "\n",
              "    [theme=dark] .colab-df-convert:hover {\n",
              "      background-color: #434B5C;\n",
              "      box-shadow: 0px 1px 3px 1px rgba(0, 0, 0, 0.15);\n",
              "      filter: drop-shadow(0px 1px 2px rgba(0, 0, 0, 0.3));\n",
              "      fill: #FFFFFF;\n",
              "    }\n",
              "  </style>\n",
              "\n",
              "      <script>\n",
              "        const buttonEl =\n",
              "          document.querySelector('#df-63c63d3c-c9e7-4a5b-9d25-10c1081b226a button.colab-df-convert');\n",
              "        buttonEl.style.display =\n",
              "          google.colab.kernel.accessAllowed ? 'block' : 'none';\n",
              "\n",
              "        async function convertToInteractive(key) {\n",
              "          const element = document.querySelector('#df-63c63d3c-c9e7-4a5b-9d25-10c1081b226a');\n",
              "          const dataTable =\n",
              "            await google.colab.kernel.invokeFunction('convertToInteractive',\n",
              "                                                     [key], {});\n",
              "          if (!dataTable) return;\n",
              "\n",
              "          const docLinkHtml = 'Like what you see? Visit the ' +\n",
              "            '<a target=\"_blank\" href=https://colab.research.google.com/notebooks/data_table.ipynb>data table notebook</a>'\n",
              "            + ' to learn more about interactive tables.';\n",
              "          element.innerHTML = '';\n",
              "          dataTable['output_type'] = 'display_data';\n",
              "          await google.colab.output.renderOutput(dataTable, element);\n",
              "          const docLink = document.createElement('div');\n",
              "          docLink.innerHTML = docLinkHtml;\n",
              "          element.appendChild(docLink);\n",
              "        }\n",
              "      </script>\n",
              "    </div>\n",
              "  </div>\n",
              "  "
            ]
          },
          "metadata": {},
          "execution_count": 4
        }
      ],
      "source": [
        "df.tail()"
      ]
    },
    {
      "cell_type": "code",
      "execution_count": 5,
      "metadata": {
        "id": "fGyrD6bEtFqg"
      },
      "outputs": [],
      "source": [
        "df1=df['Close']"
      ]
    },
    {
      "cell_type": "code",
      "execution_count": 6,
      "metadata": {
        "colab": {
          "base_uri": "https://localhost:8080/"
        },
        "id": "NAT9g7t9tFqg",
        "outputId": "bf439b38-c218-499e-bdf1-a0123b222699"
      },
      "outputs": [
        {
          "output_type": "execute_result",
          "data": {
            "text/plain": [
              "0       233.75\n",
              "1       233.25\n",
              "2       234.25\n",
              "3       236.10\n",
              "4       233.30\n",
              "         ...  \n",
              "2030    118.65\n",
              "2031    117.60\n",
              "2032    120.65\n",
              "2033    120.90\n",
              "2034    121.55\n",
              "Name: Close, Length: 2035, dtype: float64"
            ]
          },
          "metadata": {},
          "execution_count": 6
        }
      ],
      "source": [
        "df1"
      ]
    },
    {
      "cell_type": "code",
      "execution_count": 7,
      "metadata": {
        "colab": {
          "base_uri": "https://localhost:8080/",
          "height": 282
        },
        "id": "sL-5L6hNtFqh",
        "outputId": "c95e762c-c9f2-47ec-c5c5-a4491dccd432"
      },
      "outputs": [
        {
          "output_type": "execute_result",
          "data": {
            "text/plain": [
              "[<matplotlib.lines.Line2D at 0x7fe96a632f10>]"
            ]
          },
          "metadata": {},
          "execution_count": 7
        },
        {
          "output_type": "display_data",
          "data": {
            "text/plain": [
              "<Figure size 432x288 with 1 Axes>"
            ],
            "image/png": "[encoded data removed]"
          },
          "metadata": {
            "needs_background": "light"
          }
        }
      ],
      "source": [
        "import matplotlib.pyplot as plt\n",
        "plt.plot(df1)"
      ]
    },
    {
      "cell_type": "code",
      "execution_count": 8,
      "metadata": {
        "id": "hV04NW1ctFqh"
      },
      "outputs": [],
      "source": [
        "### LSTM are sensitive to the scale of the data. so we apply MinMax scaler "
      ]
    },
    {
      "cell_type": "code",
      "execution_count": 9,
      "metadata": {
        "id": "Z1ELbE7HtFqi"
      },
      "outputs": [],
      "source": [
        "import numpy as np"
      ]
    },
    {
      "cell_type": "code",
      "execution_count": 10,
      "metadata": {
        "colab": {
          "base_uri": "https://localhost:8080/"
        },
        "id": "IWFCEdeFtFqi",
        "outputId": "fccf99b0-1b3e-4815-c5e2-c633a9ac2ec0"
      },
      "outputs": [
        {
          "output_type": "execute_result",
          "data": {
            "text/plain": [
              "0       233.75\n",
              "1       233.25\n",
              "2       234.25\n",
              "3       236.10\n",
              "4       233.30\n",
              "         ...  \n",
              "2030    118.65\n",
              "2031    117.60\n",
              "2032    120.65\n",
              "2033    120.90\n",
              "2034    121.55\n",
              "Name: Close, Length: 2035, dtype: float64"
            ]
          },
          "metadata": {},
          "execution_count": 10
        }
      ],
      "source": [
        "df1"
      ]
    },
    {
      "cell_type": "code",
      "execution_count": 11,
      "metadata": {
        "id": "_Hca5mAdtFqj"
      },
      "outputs": [],
      "source": [
        "from sklearn.preprocessing import MinMaxScaler\n",
        "scaler=MinMaxScaler(feature_range=(0,1))\n",
        "df1=scaler.fit_transform(np.array(df1).reshape(-1,1))"
      ]
    },
    {
      "cell_type": "code",
      "execution_count": 12,
      "metadata": {
        "colab": {
          "base_uri": "https://localhost:8080/"
        },
        "id": "lOZvwpK7tFqj",
        "outputId": "764903ac-9e23-46b6-aa2f-9b9b8f013bcc"
      },
      "outputs": [
        {
          "output_type": "stream",
          "name": "stdout",
          "text": [
            "[[0.62418301]\n",
            " [0.62214052]\n",
            " [0.62622549]\n",
            " ...\n",
            " [0.1621732 ]\n",
            " [0.16319444]\n",
            " [0.16584967]]\n"
          ]
        }
      ],
      "source": [
        "print(df1)"
      ]
    },
    {
      "cell_type": "code",
      "execution_count": 13,
      "metadata": {
        "id": "wfHJORZptFqk"
      },
      "outputs": [],
      "source": [
        "##splitting dataset into train and test split\n",
        "training_size=int(len(df1)*0.65)\n",
        "test_size=len(df1)-training_size\n",
        "train_data,test_data=df1[0:training_size,:],df1[training_size:len(df1),:1]"
      ]
    },
    {
      "cell_type": "code",
      "execution_count": 14,
      "metadata": {
        "colab": {
          "base_uri": "https://localhost:8080/"
        },
        "id": "2DEo9xqVtFqk",
        "outputId": "4fcc285d-4328-4f5d-fef6-ddd3f9aa17f9"
      },
      "outputs": [
        {
          "output_type": "execute_result",
          "data": {
            "text/plain": [
              "(1322, 713)"
            ]
          },
          "metadata": {},
          "execution_count": 14
        }
      ],
      "source": [
        "training_size,test_size"
      ]
    },
    {
      "cell_type": "code",
      "execution_count": 15,
      "metadata": {
        "colab": {
          "base_uri": "https://localhost:8080/"
        },
        "id": "1Of6JzzHtFqk",
        "outputId": "f9f6c59e-1164-4c18-bbd8-cea36b0aeafe"
      },
      "outputs": [
        {
          "output_type": "execute_result",
          "data": {
            "text/plain": [
              "array([[0.62418301],\n",
              "       [0.62214052],\n",
              "       [0.62622549],\n",
              "       ...,\n",
              "       [0.25347222],\n",
              "       [0.26041667],\n",
              "       [0.2563317 ]])"
            ]
          },
          "metadata": {},
          "execution_count": 15
        }
      ],
      "source": [
        "train_data"
      ]
    },
    {
      "cell_type": "code",
      "execution_count": 16,
      "metadata": {
        "id": "qNHppWGvtFql"
      },
      "outputs": [],
      "source": [
        "import numpy\n",
        "# convert an array of values into a dataset matrix\n",
        "def create_dataset(dataset, time_step=1):\n",
        "\tdataX, dataY = [], []\n",
        "\tfor i in range(len(dataset)-time_step-1):\n",
        "\t\ta = dataset[i:(i+time_step), 0]   ###i=0, 0,1,2,3-----99   100 \n",
        "\t\tdataX.append(a)\n",
        "\t\tdataY.append(dataset[i + time_step, 0])\n",
        "\treturn numpy.array(dataX), numpy.array(dataY)"
      ]
    },
    {
      "cell_type": "code",
      "execution_count": 17,
      "metadata": {
        "id": "HSEI4OmStFql"
      },
      "outputs": [],
      "source": [
        "# reshape into X=t,t+1,t+2,t+3 and Y=t+4\n",
        "time_step = 100\n",
        "X_train, y_train = create_dataset(train_data, time_step)\n",
        "X_test, ytest = create_dataset(test_data, time_step)"
      ]
    },
    {
      "cell_type": "code",
      "execution_count": 18,
      "metadata": {
        "colab": {
          "base_uri": "https://localhost:8080/"
        },
        "id": "11QwVsdNtFqm",
        "outputId": "e1bcfdc7-778a-4114-d5f7-292e821b6442"
      },
      "outputs": [
        {
          "output_type": "stream",
          "name": "stdout",
          "text": [
            "(1221, 100)\n",
            "(1221,)\n"
          ]
        },
        {
          "output_type": "execute_result",
          "data": {
            "text/plain": [
              "(None, None)"
            ]
          },
          "metadata": {},
          "execution_count": 18
        }
      ],
      "source": [
        "print(X_train.shape), print(y_train.shape)"
      ]
    },
    {
      "cell_type": "code",
      "execution_count": 19,
      "metadata": {
        "colab": {
          "base_uri": "https://localhost:8080/"
        },
        "id": "WwWaPjAKtFqm",
        "outputId": "91a78cef-3cf7-4f39-cdb8-d3bf5f53b0e1"
      },
      "outputs": [
        {
          "output_type": "stream",
          "name": "stdout",
          "text": [
            "(612, 100)\n",
            "(612,)\n"
          ]
        },
        {
          "output_type": "execute_result",
          "data": {
            "text/plain": [
              "(None, None)"
            ]
          },
          "metadata": {},
          "execution_count": 19
        }
      ],
      "source": [
        "print(X_test.shape), print(ytest.shape)"
      ]
    },
    {
      "cell_type": "code",
      "execution_count": 20,
      "metadata": {
        "id": "EJ2V6y84tFqn"
      },
      "outputs": [],
      "source": [
        "# reshape input to be [samples, time steps, features] which is required for LSTM\n",
        "X_train =X_train.reshape(X_train.shape[0],X_train.shape[1] , 1)\n",
        "X_test = X_test.reshape(X_test.shape[0],X_test.shape[1] , 1)"
      ]
    },
    {
      "cell_type": "code",
      "execution_count": 21,
      "metadata": {
        "id": "mCgG3_aFtFqn"
      },
      "outputs": [],
      "source": [
        "### Create the Stacked LSTM model\n",
        "from tensorflow.keras.models import Sequential\n",
        "from tensorflow.keras.layers import Dense\n",
        "from tensorflow.keras.layers import LSTM"
      ]
    },
    {
      "cell_type": "code",
      "execution_count": 22,
      "metadata": {
        "id": "chcFgNRMtFqo"
      },
      "outputs": [],
      "source": [
        "model=Sequential()\n",
        "model.add(LSTM(50,return_sequences=True,input_shape=(100,1)))\n",
        "model.add(LSTM(50,return_sequences=True))\n",
        "model.add(LSTM(50))\n",
        "model.add(Dense(1))\n",
        "model.compile(loss='mean_squared_error',optimizer='adam')\n"
      ]
    },
    {
      "cell_type": "code",
      "execution_count": 23,
      "metadata": {
        "colab": {
          "base_uri": "https://localhost:8080/"
        },
        "id": "zaQ1pSS-tFqo",
        "outputId": "86dd9352-6288-44a8-b9d6-434c827eef87"
      },
      "outputs": [
        {
          "output_type": "stream",
          "name": "stdout",
          "text": [
            "Model: \"sequential\"\n",
            "_________________________________________________________________\n",
            " Layer (type)                Output Shape              Param #   \n",
            "=================================================================\n",
            " lstm (LSTM)                 (None, 100, 50)           10400     \n",
            "                                                                 \n",
            " lstm_1 (LSTM)               (None, 100, 50)           20200     \n",
            "                                                                 \n",
            " lstm_2 (LSTM)               (None, 50)                20200     \n",
            "                                                                 \n",
            " dense (Dense)               (None, 1)                 51        \n",
            "                                                                 \n",
            "=================================================================\n",
            "Total params: 50,851\n",
            "Trainable params: 50,851\n",
            "Non-trainable params: 0\n",
            "_________________________________________________________________\n"
          ]
        }
      ],
      "source": [
        "model.summary()"
      ]
    },
    {
      "cell_type": "code",
      "execution_count": 24,
      "metadata": {
        "colab": {
          "base_uri": "https://localhost:8080/"
        },
        "id": "4LzAiYzntFqp",
        "outputId": "bec25e7d-d878-45cd-ffc1-fc238eeb2051"
      },
      "outputs": [
        {
          "output_type": "stream",
          "name": "stdout",
          "text": [
            "Model: \"sequential\"\n",
            "_________________________________________________________________\n",
            " Layer (type)                Output Shape              Param #   \n",
            "=================================================================\n",
            " lstm (LSTM)                 (None, 100, 50)           10400     \n",
            "                                                                 \n",
            " lstm_1 (LSTM)               (None, 100, 50)           20200     \n",
            "                                                                 \n",
            " lstm_2 (LSTM)               (None, 50)                20200     \n",
            "                                                                 \n",
            " dense (Dense)               (None, 1)                 51        \n",
            "                                                                 \n",
            "=================================================================\n",
            "Total params: 50,851\n",
            "Trainable params: 50,851\n",
            "Non-trainable params: 0\n",
            "_________________________________________________________________\n"
          ]
        }
      ],
      "source": [
        "model.summary()"
      ]
    },
    {
      "cell_type": "code",
      "execution_count": 24,
      "metadata": {
        "id": "xEz6G_k-tFqp"
      },
      "outputs": [],
      "source": [
        ""
      ]
    },
    {
      "cell_type": "code",
      "execution_count": 25,
      "metadata": {
        "colab": {
          "base_uri": "https://localhost:8080/"
        },
        "id": "eWAC9TuItFqp",
        "outputId": "6336f493-fcd5-461e-99fd-7b170afe7171"
      },
      "outputs": [
        {
          "output_type": "stream",
          "name": "stdout",
          "text": [
            "Epoch 1/100\n",
            "20/20 [==============================] - 22s 619ms/step - loss: 0.0328 - val_loss: 0.0028\n",
            "Epoch 2/100\n",
            "20/20 [==============================] - 10s 514ms/step - loss: 0.0037 - val_loss: 0.0014\n",
            "Epoch 3/100\n",
            "20/20 [==============================] - 8s 376ms/step - loss: 0.0019 - val_loss: 0.0010\n",
            "Epoch 4/100\n",
            "20/20 [==============================] - 7s 329ms/step - loss: 0.0015 - val_loss: 0.0011\n",
            "Epoch 5/100\n",
            "20/20 [==============================] - 4s 194ms/step - loss: 0.0014 - val_loss: 0.0011\n",
            "Epoch 6/100\n",
            "20/20 [==============================] - 4s 193ms/step - loss: 0.0014 - val_loss: 0.0010\n",
            "Epoch 7/100\n",
            "20/20 [==============================] - 4s 192ms/step - loss: 0.0013 - val_loss: 0.0011\n",
            "Epoch 8/100\n",
            "20/20 [==============================] - 4s 192ms/step - loss: 0.0014 - val_loss: 0.0013\n",
            "Epoch 9/100\n",
            "20/20 [==============================] - 4s 191ms/step - loss: 0.0013 - val_loss: 0.0013\n",
            "Epoch 10/100\n",
            "20/20 [==============================] - 4s 194ms/step - loss: 0.0012 - val_loss: 9.3855e-04\n",
            "Epoch 11/100\n",
            "20/20 [==============================] - 4s 194ms/step - loss: 0.0012 - val_loss: 8.9644e-04\n",
            "Epoch 12/100\n",
            "20/20 [==============================] - 4s 193ms/step - loss: 0.0011 - val_loss: 9.9979e-04\n",
            "Epoch 13/100\n",
            "20/20 [==============================] - 4s 194ms/step - loss: 0.0010 - val_loss: 9.1633e-04\n",
            "Epoch 14/100\n",
            "20/20 [==============================] - 4s 198ms/step - loss: 9.7069e-04 - val_loss: 7.8178e-04\n",
            "Epoch 15/100\n",
            "20/20 [==============================] - 4s 192ms/step - loss: 9.6499e-04 - val_loss: 9.8212e-04\n",
            "Epoch 16/100\n",
            "20/20 [==============================] - 4s 194ms/step - loss: 9.5091e-04 - val_loss: 6.2941e-04\n",
            "Epoch 17/100\n",
            "20/20 [==============================] - 4s 195ms/step - loss: 9.0338e-04 - val_loss: 7.5172e-04\n",
            "Epoch 18/100\n",
            "20/20 [==============================] - 4s 199ms/step - loss: 9.0896e-04 - val_loss: 7.5653e-04\n",
            "Epoch 19/100\n",
            "20/20 [==============================] - 4s 193ms/step - loss: 8.1091e-04 - val_loss: 8.9910e-04\n",
            "Epoch 20/100\n",
            "20/20 [==============================] - 4s 193ms/step - loss: 8.3448e-04 - val_loss: 0.0011\n",
            "Epoch 21/100\n",
            "20/20 [==============================] - 4s 193ms/step - loss: 8.9637e-04 - val_loss: 9.0741e-04\n",
            "Epoch 22/100\n",
            "20/20 [==============================] - 4s 196ms/step - loss: 7.7565e-04 - val_loss: 6.4616e-04\n",
            "Epoch 23/100\n",
            "20/20 [==============================] - 4s 196ms/step - loss: 8.9171e-04 - val_loss: 7.7354e-04\n",
            "Epoch 24/100\n",
            "20/20 [==============================] - 4s 194ms/step - loss: 7.2284e-04 - val_loss: 8.9414e-04\n",
            "Epoch 25/100\n",
            "20/20 [==============================] - 4s 193ms/step - loss: 7.4320e-04 - val_loss: 7.6590e-04\n",
            "Epoch 26/100\n",
            "20/20 [==============================] - 4s 218ms/step - loss: 7.0993e-04 - val_loss: 8.1049e-04\n",
            "Epoch 27/100\n",
            "20/20 [==============================] - 4s 191ms/step - loss: 7.0499e-04 - val_loss: 8.4001e-04\n",
            "Epoch 28/100\n",
            "20/20 [==============================] - 4s 194ms/step - loss: 7.0989e-04 - val_loss: 8.2858e-04\n",
            "Epoch 29/100\n",
            "20/20 [==============================] - 4s 193ms/step - loss: 6.4709e-04 - val_loss: 8.4496e-04\n",
            "Epoch 30/100\n",
            "20/20 [==============================] - 4s 198ms/step - loss: 6.8902e-04 - val_loss: 6.2494e-04\n",
            "Epoch 31/100\n",
            "20/20 [==============================] - 5s 239ms/step - loss: 7.5656e-04 - val_loss: 7.5005e-04\n",
            "Epoch 32/100\n",
            "20/20 [==============================] - 4s 195ms/step - loss: 6.3799e-04 - val_loss: 7.5754e-04\n",
            "Epoch 33/100\n",
            "20/20 [==============================] - 4s 194ms/step - loss: 6.7072e-04 - val_loss: 7.3820e-04\n",
            "Epoch 34/100\n",
            "20/20 [==============================] - 4s 191ms/step - loss: 5.8824e-04 - val_loss: 8.0208e-04\n",
            "Epoch 35/100\n",
            "20/20 [==============================] - 4s 192ms/step - loss: 5.9927e-04 - val_loss: 5.6497e-04\n",
            "Epoch 36/100\n",
            "20/20 [==============================] - 4s 196ms/step - loss: 6.3210e-04 - val_loss: 5.1682e-04\n",
            "Epoch 37/100\n",
            "20/20 [==============================] - 4s 196ms/step - loss: 5.5875e-04 - val_loss: 6.3353e-04\n",
            "Epoch 38/100\n",
            "20/20 [==============================] - 4s 194ms/step - loss: 5.8881e-04 - val_loss: 7.9856e-04\n",
            "Epoch 39/100\n",
            "20/20 [==============================] - 4s 196ms/step - loss: 6.4237e-04 - val_loss: 9.2341e-04\n",
            "Epoch 40/100\n",
            "20/20 [==============================] - 4s 193ms/step - loss: 5.8159e-04 - val_loss: 5.6478e-04\n",
            "Epoch 41/100\n",
            "20/20 [==============================] - 4s 193ms/step - loss: 5.4526e-04 - val_loss: 0.0010\n",
            "Epoch 42/100\n",
            "20/20 [==============================] - 4s 192ms/step - loss: 9.9727e-04 - val_loss: 6.5576e-04\n",
            "Epoch 43/100\n",
            "20/20 [==============================] - 4s 197ms/step - loss: 5.9554e-04 - val_loss: 5.7693e-04\n",
            "Epoch 44/100\n",
            "20/20 [==============================] - 4s 195ms/step - loss: 5.1591e-04 - val_loss: 6.2118e-04\n",
            "Epoch 45/100\n",
            "20/20 [==============================] - 4s 195ms/step - loss: 5.0352e-04 - val_loss: 5.5745e-04\n",
            "Epoch 46/100\n",
            "20/20 [==============================] - 4s 194ms/step - loss: 5.1325e-04 - val_loss: 5.0810e-04\n",
            "Epoch 47/100\n",
            "20/20 [==============================] - 4s 195ms/step - loss: 5.1684e-04 - val_loss: 5.4372e-04\n",
            "Epoch 48/100\n",
            "20/20 [==============================] - 4s 191ms/step - loss: 4.6852e-04 - val_loss: 5.6333e-04\n",
            "Epoch 49/100\n",
            "20/20 [==============================] - 4s 193ms/step - loss: 4.6165e-04 - val_loss: 6.4786e-04\n",
            "Epoch 50/100\n",
            "20/20 [==============================] - 4s 191ms/step - loss: 4.5831e-04 - val_loss: 6.4675e-04\n",
            "Epoch 51/100\n",
            "20/20 [==============================] - 4s 195ms/step - loss: 5.5102e-04 - val_loss: 4.1652e-04\n",
            "Epoch 52/100\n",
            "20/20 [==============================] - 4s 194ms/step - loss: 6.2297e-04 - val_loss: 6.9768e-04\n",
            "Epoch 53/100\n",
            "20/20 [==============================] - 4s 196ms/step - loss: 5.7945e-04 - val_loss: 7.0416e-04\n",
            "Epoch 54/100\n",
            "20/20 [==============================] - 4s 211ms/step - loss: 5.0839e-04 - val_loss: 5.2149e-04\n",
            "Epoch 55/100\n",
            "20/20 [==============================] - 4s 192ms/step - loss: 4.5538e-04 - val_loss: 5.4353e-04\n",
            "Epoch 56/100\n",
            "20/20 [==============================] - 4s 198ms/step - loss: 5.1009e-04 - val_loss: 6.0380e-04\n",
            "Epoch 57/100\n",
            "20/20 [==============================] - 4s 191ms/step - loss: 4.2539e-04 - val_loss: 4.7806e-04\n",
            "Epoch 58/100\n",
            "20/20 [==============================] - 4s 196ms/step - loss: 4.8297e-04 - val_loss: 6.2415e-04\n",
            "Epoch 59/100\n",
            "20/20 [==============================] - 4s 194ms/step - loss: 4.2562e-04 - val_loss: 3.5442e-04\n",
            "Epoch 60/100\n",
            "20/20 [==============================] - 4s 194ms/step - loss: 5.0352e-04 - val_loss: 3.5145e-04\n",
            "Epoch 61/100\n",
            "20/20 [==============================] - 4s 193ms/step - loss: 4.1093e-04 - val_loss: 4.5150e-04\n",
            "Epoch 62/100\n",
            "20/20 [==============================] - 4s 198ms/step - loss: 3.7741e-04 - val_loss: 3.6761e-04\n",
            "Epoch 63/100\n",
            "20/20 [==============================] - 4s 194ms/step - loss: 3.7773e-04 - val_loss: 4.0457e-04\n",
            "Epoch 64/100\n",
            "20/20 [==============================] - 4s 194ms/step - loss: 3.6388e-04 - val_loss: 5.0568e-04\n",
            "Epoch 65/100\n",
            "20/20 [==============================] - 4s 195ms/step - loss: 3.7748e-04 - val_loss: 3.4555e-04\n",
            "Epoch 66/100\n",
            "20/20 [==============================] - 4s 196ms/step - loss: 3.8621e-04 - val_loss: 3.6702e-04\n",
            "Epoch 67/100\n",
            "20/20 [==============================] - 4s 196ms/step - loss: 3.3898e-04 - val_loss: 3.0678e-04\n",
            "Epoch 68/100\n",
            "20/20 [==============================] - 4s 196ms/step - loss: 4.1023e-04 - val_loss: 3.1839e-04\n",
            "Epoch 69/100\n",
            "20/20 [==============================] - 4s 195ms/step - loss: 3.5461e-04 - val_loss: 3.1389e-04\n",
            "Epoch 70/100\n",
            "20/20 [==============================] - 4s 193ms/step - loss: 3.9653e-04 - val_loss: 2.9263e-04\n",
            "Epoch 71/100\n",
            "20/20 [==============================] - 4s 193ms/step - loss: 3.7191e-04 - val_loss: 4.1764e-04\n",
            "Epoch 72/100\n",
            "20/20 [==============================] - 4s 197ms/step - loss: 3.3852e-04 - val_loss: 3.3126e-04\n",
            "Epoch 73/100\n",
            "20/20 [==============================] - 4s 194ms/step - loss: 3.1801e-04 - val_loss: 3.0805e-04\n",
            "Epoch 74/100\n",
            "20/20 [==============================] - 4s 193ms/step - loss: 3.1347e-04 - val_loss: 2.9257e-04\n",
            "Epoch 75/100\n",
            "20/20 [==============================] - 4s 196ms/step - loss: 2.8847e-04 - val_loss: 3.3222e-04\n",
            "Epoch 76/100\n",
            "20/20 [==============================] - 4s 198ms/step - loss: 3.0713e-04 - val_loss: 2.8371e-04\n",
            "Epoch 77/100\n",
            "20/20 [==============================] - 4s 197ms/step - loss: 3.2780e-04 - val_loss: 3.3653e-04\n",
            "Epoch 78/100\n",
            "20/20 [==============================] - 4s 201ms/step - loss: 3.2825e-04 - val_loss: 2.6017e-04\n",
            "Epoch 79/100\n",
            "20/20 [==============================] - 4s 198ms/step - loss: 2.9128e-04 - val_loss: 2.6767e-04\n",
            "Epoch 80/100\n",
            "20/20 [==============================] - 4s 195ms/step - loss: 3.3922e-04 - val_loss: 2.6893e-04\n",
            "Epoch 81/100\n",
            "20/20 [==============================] - 4s 220ms/step - loss: 2.7140e-04 - val_loss: 2.9511e-04\n",
            "Epoch 82/100\n",
            "20/20 [==============================] - 4s 196ms/step - loss: 2.7021e-04 - val_loss: 4.9452e-04\n",
            "Epoch 83/100\n",
            "20/20 [==============================] - 4s 194ms/step - loss: 4.2582e-04 - val_loss: 2.6990e-04\n",
            "Epoch 84/100\n",
            "20/20 [==============================] - 4s 196ms/step - loss: 2.8387e-04 - val_loss: 3.1913e-04\n",
            "Epoch 85/100\n",
            "20/20 [==============================] - 4s 195ms/step - loss: 2.6928e-04 - val_loss: 2.8636e-04\n",
            "Epoch 86/100\n",
            "20/20 [==============================] - 4s 196ms/step - loss: 2.5280e-04 - val_loss: 3.0319e-04\n",
            "Epoch 87/100\n",
            "20/20 [==============================] - 4s 195ms/step - loss: 2.9013e-04 - val_loss: 2.4700e-04\n",
            "Epoch 88/100\n",
            "20/20 [==============================] - 4s 195ms/step - loss: 3.1986e-04 - val_loss: 3.2575e-04\n",
            "Epoch 89/100\n",
            "20/20 [==============================] - 4s 193ms/step - loss: 2.5261e-04 - val_loss: 2.4990e-04\n",
            "Epoch 90/100\n",
            "20/20 [==============================] - 4s 194ms/step - loss: 2.4238e-04 - val_loss: 2.4105e-04\n",
            "Epoch 91/100\n",
            "20/20 [==============================] - 4s 194ms/step - loss: 2.6431e-04 - val_loss: 3.1667e-04\n",
            "Epoch 92/100\n",
            "20/20 [==============================] - 4s 195ms/step - loss: 4.1697e-04 - val_loss: 2.3578e-04\n",
            "Epoch 93/100\n",
            "20/20 [==============================] - 4s 197ms/step - loss: 3.7946e-04 - val_loss: 2.2249e-04\n",
            "Epoch 94/100\n",
            "20/20 [==============================] - 4s 197ms/step - loss: 2.6196e-04 - val_loss: 2.7021e-04\n",
            "Epoch 95/100\n",
            "20/20 [==============================] - 4s 201ms/step - loss: 2.4579e-04 - val_loss: 2.4519e-04\n",
            "Epoch 96/100\n",
            "20/20 [==============================] - 4s 199ms/step - loss: 2.4518e-04 - val_loss: 2.7688e-04\n",
            "Epoch 97/100\n",
            "20/20 [==============================] - 4s 198ms/step - loss: 2.3067e-04 - val_loss: 2.2865e-04\n",
            "Epoch 98/100\n",
            "20/20 [==============================] - 4s 199ms/step - loss: 2.3023e-04 - val_loss: 2.3902e-04\n",
            "Epoch 99/100\n",
            "20/20 [==============================] - 4s 195ms/step - loss: 2.5734e-04 - val_loss: 2.8318e-04\n",
            "Epoch 100/100\n",
            "20/20 [==============================] - 4s 198ms/step - loss: 2.4669e-04 - val_loss: 2.3280e-04\n"
          ]
        },
        {
          "output_type": "execute_result",
          "data": {
            "text/plain": [
              "<keras.callbacks.History at 0x7fe8ed21be50>"
            ]
          },
          "metadata": {},
          "execution_count": 25
        }
      ],
      "source": [
        "model.fit(X_train,y_train,validation_data=(X_test,ytest),epochs=100,batch_size=64,verbose=1)"
      ]
    },
    {
      "cell_type": "code",
      "execution_count": 26,
      "metadata": {
        "id": "uNKOOF1-tFqp"
      },
      "outputs": [],
      "source": [
        "import tensorflow as tf"
      ]
    },
    {
      "cell_type": "code",
      "execution_count": 27,
      "metadata": {
        "colab": {
          "base_uri": "https://localhost:8080/",
          "height": 35
        },
        "id": "f2T6xKSctFqq",
        "outputId": "6683d68a-3b74-4d04-cb60-9cd7a7938f55"
      },
      "outputs": [
        {
          "output_type": "execute_result",
          "data": {
            "text/plain": [
              "'2.8.0'"
            ],
            "application/vnd.google.colaboratory.intrinsic+json": {
              "type": "string"
            }
          },
          "metadata": {},
          "execution_count": 27
        }
      ],
      "source": [
        "tf.__version__"
      ]
    },
    {
      "cell_type": "code",
      "execution_count": 28,
      "metadata": {
        "id": "-VjUwmHOtFqq"
      },
      "outputs": [],
      "source": [
        "### Lets Do the prediction and check performance metrics\n",
        "train_predict=model.predict(X_train)\n",
        "test_predict=model.predict(X_test)"
      ]
    },
    {
      "cell_type": "code",
      "execution_count": 29,
      "metadata": {
        "id": "VxQxPwkitFqq"
      },
      "outputs": [],
      "source": [
        "##Transformback to original form\n",
        "train_predict=scaler.inverse_transform(train_predict)\n",
        "test_predict=scaler.inverse_transform(test_predict)"
      ]
    },
    {
      "cell_type": "code",
      "execution_count": 30,
      "metadata": {
        "colab": {
          "base_uri": "https://localhost:8080/"
        },
        "id": "Z2NG5G_QtFqr",
        "outputId": "e1fe6d24-937e-4152-bd1a-2bf32e28d585"
      },
      "outputs": [
        {
          "output_type": "execute_result",
          "data": {
            "text/plain": [
              "165.814725197086"
            ]
          },
          "metadata": {},
          "execution_count": 30
        }
      ],
      "source": [
        "### Calculate RMSE performance metrics\n",
        "import math\n",
        "from sklearn.metrics import mean_squared_error\n",
        "math.sqrt(mean_squared_error(y_train,train_predict))"
      ]
    },
    {
      "cell_type": "code",
      "execution_count": 31,
      "metadata": {
        "colab": {
          "base_uri": "https://localhost:8080/"
        },
        "id": "hWiozAADtFqr",
        "outputId": "ae8a30fb-176a-4a24-faf0-7fa758f56e23"
      },
      "outputs": [
        {
          "output_type": "execute_result",
          "data": {
            "text/plain": [
              "116.18224638450766"
            ]
          },
          "metadata": {},
          "execution_count": 31
        }
      ],
      "source": [
        "### Test Data RMSE\n",
        "math.sqrt(mean_squared_error(ytest,test_predict))"
      ]
    },
    {
      "cell_type": "code",
      "execution_count": 32,
      "metadata": {
        "colab": {
          "base_uri": "https://localhost:8080/",
          "height": 265
        },
        "id": "qIpKbSlEtFqr",
        "outputId": "ca12ded7-257e-46af-8323-3a5c4f5c3574"
      },
      "outputs": [
        {
          "output_type": "display_data",
          "data": {
            "text/plain": [
              "<Figure size 432x288 with 1 Axes>"
            ],
            "image/png": "[encoded data removed]"
          },
          "metadata": {
            "needs_background": "light"
          }
        }
      ],
      "source": [
        "### Plotting \n",
        "# shift train predictions for plotting\n",
        "look_back=100\n",
        "trainPredictPlot = numpy.empty_like(df1)\n",
        "trainPredictPlot[:, :] = np.nan\n",
        "trainPredictPlot[look_back:len(train_predict)+look_back, :] = train_predict\n",
        "# shift test predictions for plotting\n",
        "testPredictPlot = numpy.empty_like(df1)\n",
        "testPredictPlot[:, :] = numpy.nan\n",
        "testPredictPlot[len(train_predict)+(look_back*2)+1:len(df1)-1, :] = test_predict\n",
        "# plot baseline and predictions\n",
        "plt.plot(scaler.inverse_transform(df1))\n",
        "plt.plot(trainPredictPlot)\n",
        "plt.plot(testPredictPlot)\n",
        "plt.show()"
      ]
    },
    {
      "cell_type": "code",
      "execution_count": 33,
      "metadata": {
        "colab": {
          "base_uri": "https://localhost:8080/"
        },
        "id": "sGjnYcRStFqs",
        "outputId": "736e6757-a668-4c88-8383-e2d363bd080b"
      },
      "outputs": [
        {
          "output_type": "execute_result",
          "data": {
            "text/plain": [
              "713"
            ]
          },
          "metadata": {},
          "execution_count": 33
        }
      ],
      "source": [
        "len(test_data)"
      ]
    },
    {
      "cell_type": "code",
      "execution_count": 34,
      "metadata": {
        "colab": {
          "base_uri": "https://localhost:8080/"
        },
        "id": "P5BfjauxtFqs",
        "outputId": "a5294989-c4d6-473f-d4cb-ac9345d6bdf7"
      },
      "outputs": [
        {
          "output_type": "execute_result",
          "data": {
            "text/plain": [
              "(1, 372)"
            ]
          },
          "metadata": {},
          "execution_count": 34
        }
      ],
      "source": [
        "x_input=test_data[341:].reshape(1,-1)\n",
        "x_input.shape\n"
      ]
    },
    {
      "cell_type": "code",
      "execution_count": 35,
      "metadata": {
        "id": "EQV4hxoZtFqt"
      },
      "outputs": [],
      "source": [
        "temp_input=list(x_input)\n",
        "temp_input=temp_input[0].tolist()"
      ]
    },
    {
      "cell_type": "code",
      "execution_count": 36,
      "metadata": {
        "colab": {
          "base_uri": "https://localhost:8080/"
        },
        "id": "C25kT0lwtFqt",
        "outputId": "1883fecc-f654-46f8-e3dc-e5f6686098cf"
      },
      "outputs": [
        {
          "output_type": "execute_result",
          "data": {
            "text/plain": [
              "[0.048815359477124176,\n",
              " 0.048815359477124176,\n",
              " 0.05310457516339867,\n",
              " 0.049632352941176405,\n",
              " 0.05065359477124176,\n",
              " 0.05126633986928103,\n",
              " 0.049632352941176405,\n",
              " 0.05902777777777779,\n",
              " 0.055555555555555525,\n",
              " 0.040849673202614345,\n",
              " 0.037377450980392135,\n",
              " 0.037377450980392135,\n",
              " 0.026552287581699308,\n",
              " 0.02879901960784309,\n",
              " 0.03165849673202614,\n",
              " 0.03165849673202614,\n",
              " 0.036356209150326724,\n",
              " 0.022058823529411742,\n",
              " 0.016748366013071836,\n",
              " 0.014501633986928053,\n",
              " 0.022263071895424813,\n",
              " 0.03615196078431371,\n",
              " 0.02675653594771238,\n",
              " 0.03206699346405223,\n",
              " 0.02696078431372545,\n",
              " 0.035743464052287566,\n",
              " 0.03594771241830064,\n",
              " 0.0404411764705882,\n",
              " 0.039215686274509776,\n",
              " 0.044117647058823484,\n",
              " 0.029820261437908446,\n",
              " 0.012254901960784326,\n",
              " 0.012867647058823484,\n",
              " 0.011437908496731986,\n",
              " 0.0024509803921567985,\n",
              " 0.005923202614379064,\n",
              " 0.0,\n",
              " 0.007148692810457491,\n",
              " 0.0042892156862744946,\n",
              " 0.006740196078431349,\n",
              " 0.006331699346405206,\n",
              " 0.011233660130718914,\n",
              " 0.019607843137254888,\n",
              " 0.02757352941176472,\n",
              " 0.030024509803921517,\n",
              " 0.03349673202614378,\n",
              " 0.04003267973856206,\n",
              " 0.040849673202614345,\n",
              " 0.03982843137254899,\n",
              " 0.041666666666666685,\n",
              " 0.0437091503267974,\n",
              " 0.047589869281045694,\n",
              " 0.03594771241830064,\n",
              " 0.028390522875817004,\n",
              " 0.024101307189542454,\n",
              " 0.017156862745098034,\n",
              " 0.015318627450980393,\n",
              " 0.017565359477124176,\n",
              " 0.02696078431372545,\n",
              " 0.02696078431372545,\n",
              " 0.03819444444444442,\n",
              " 0.028390522875817004,\n",
              " 0.02369281045751631,\n",
              " 0.029207516339869233,\n",
              " 0.02328431372549017,\n",
              " 0.019199346405228745,\n",
              " 0.006535947712418277,\n",
              " 0.000612745098039158,\n",
              " 0.007965686274509776,\n",
              " 0.012459150326797341,\n",
              " 0.01981209150326796,\n",
              " 0.019403594771241817,\n",
              " 0.022467320261437884,\n",
              " 0.031249999999999944,\n",
              " 0.02348856209150324,\n",
              " 0.024918300653594738,\n",
              " 0.02144607843137253,\n",
              " 0.04840686274509798,\n",
              " 0.04575163398692811,\n",
              " 0.03962418300653592,\n",
              " 0.039215686274509776,\n",
              " 0.047589869281045694,\n",
              " 0.04513888888888884,\n",
              " 0.041666666666666685,\n",
              " 0.04125816993464049,\n",
              " 0.050449346405228745,\n",
              " 0.055555555555555525,\n",
              " 0.05494281045751631,\n",
              " 0.054125816993464027,\n",
              " 0.04350490196078427,\n",
              " 0.04799836601307189,\n",
              " 0.0514705882352941,\n",
              " 0.05065359477124176,\n",
              " 0.03431372549019601,\n",
              " 0.04575163398692811,\n",
              " 0.0418709150326797,\n",
              " 0.04554738562091498,\n",
              " 0.03941993464052285,\n",
              " 0.02716503267973852,\n",
              " 0.031249999999999944,\n",
              " 0.05882352941176466,\n",
              " 0.07148692810457513,\n",
              " 0.08721405228758167,\n",
              " 0.08986928104575165,\n",
              " 0.10498366013071897,\n",
              " 0.08905228758169931,\n",
              " 0.10355392156862742,\n",
              " 0.10375816993464049,\n",
              " 0.12275326797385616,\n",
              " 0.1090686274509804,\n",
              " 0.09660947712418294,\n",
              " 0.10641339869281041,\n",
              " 0.10457516339869277,\n",
              " 0.11049836601307189,\n",
              " 0.11274509803921567,\n",
              " 0.0980392156862745,\n",
              " 0.09987745098039214,\n",
              " 0.08925653594771238,\n",
              " 0.07475490196078427,\n",
              " 0.08169934640522875,\n",
              " 0.08925653594771238,\n",
              " 0.09068627450980393,\n",
              " 0.08129084967320255,\n",
              " 0.08823529411764702,\n",
              " 0.08455882352941174,\n",
              " 0.07945261437908496,\n",
              " 0.08374183006535946,\n",
              " 0.0778186274509804,\n",
              " 0.09824346405228757,\n",
              " 0.090890522875817,\n",
              " 0.09007352941176466,\n",
              " 0.09558823529411759,\n",
              " 0.06862745098039214,\n",
              " 0.06372549019607837,\n",
              " 0.04942810457516339,\n",
              " 0.04799836601307189,\n",
              " 0.04534313725490191,\n",
              " 0.044321895424836555,\n",
              " 0.03941993464052285,\n",
              " 0.03799019607843135,\n",
              " 0.04656862745098034,\n",
              " 0.05085784313725489,\n",
              " 0.07209967320261434,\n",
              " 0.065359477124183,\n",
              " 0.07230392156862747,\n",
              " 0.07802287581699341,\n",
              " 0.07741013071895425,\n",
              " 0.060866013071895375,\n",
              " 0.06413398692810457,\n",
              " 0.07046568627450978,\n",
              " 0.054125816993464027,\n",
              " 0.04983660130718953,\n",
              " 0.05167483660130712,\n",
              " 0.05330882352941174,\n",
              " 0.04350490196078427,\n",
              " 0.026348039215686292,\n",
              " 0.024101307189542454,\n",
              " 0.02961601307189543,\n",
              " 0.019607843137254888,\n",
              " 0.02961601307189543,\n",
              " 0.04575163398692811,\n",
              " 0.05923202614379086,\n",
              " 0.0667892156862745,\n",
              " 0.06229575163398693,\n",
              " 0.06311274509803921,\n",
              " 0.06290849673202609,\n",
              " 0.06658496732026142,\n",
              " 0.07434640522875818,\n",
              " 0.06944444444444442,\n",
              " 0.08088235294117646,\n",
              " 0.07700163398692805,\n",
              " 0.06842320261437906,\n",
              " 0.06781045751633985,\n",
              " 0.06290849673202609,\n",
              " 0.06924019607843135,\n",
              " 0.07557189542483661,\n",
              " 0.0778186274509804,\n",
              " 0.08088235294117646,\n",
              " 0.0884395424836601,\n",
              " 0.09395424836601307,\n",
              " 0.09599673202614378,\n",
              " 0.08660130718954251,\n",
              " 0.09027777777777773,\n",
              " 0.08517156862745096,\n",
              " 0.08374183006535946,\n",
              " 0.07945261437908496,\n",
              " 0.09109477124183002,\n",
              " 0.09129901960784309,\n",
              " 0.08803104575163395,\n",
              " 0.09681372549019607,\n",
              " 0.11417483660130717,\n",
              " 0.10498366013071897,\n",
              " 0.09987745098039214,\n",
              " 0.08537581699346403,\n",
              " 0.08047385620915032,\n",
              " 0.06862745098039214,\n",
              " 0.06576797385620914,\n",
              " 0.061478758169934644,\n",
              " 0.0716911764705882,\n",
              " 0.0702614379084967,\n",
              " 0.07475490196078427,\n",
              " 0.06821895424836599,\n",
              " 0.06924019607843135,\n",
              " 0.07066993464052285,\n",
              " 0.06801470588235292,\n",
              " 0.0667892156862745,\n",
              " 0.07414215686274506,\n",
              " 0.0716911764705882,\n",
              " 0.08639705882352938,\n",
              " 0.08312908496732024,\n",
              " 0.06311274509803921,\n",
              " 0.06290849673202609,\n",
              " 0.05167483660130712,\n",
              " 0.031862745098039214,\n",
              " 0.04003267973856206,\n",
              " 0.03860294117647056,\n",
              " 0.041053921568627416,\n",
              " 0.033905228758169925,\n",
              " 0.031249999999999944,\n",
              " 0.026348039215686292,\n",
              " 0.05861928104575159,\n",
              " 0.06311274509803921,\n",
              " 0.06209150326797386,\n",
              " 0.055351307189542454,\n",
              " 0.08455882352941174,\n",
              " 0.05514705882352938,\n",
              " 0.06045751633986923,\n",
              " 0.055759803921568596,\n",
              " 0.04391339869281047,\n",
              " 0.029207516339869233,\n",
              " 0.028186274509803877,\n",
              " 0.04718137254901961,\n",
              " 0.06045751633986923,\n",
              " 0.05861928104575159,\n",
              " 0.06168300653594766,\n",
              " 0.06699346405228751,\n",
              " 0.07087418300653592,\n",
              " 0.07557189542483661,\n",
              " 0.07700163398692805,\n",
              " 0.10375816993464049,\n",
              " 0.10314542483660127,\n",
              " 0.10334967320261434,\n",
              " 0.10089869281045749,\n",
              " 0.1043709150326797,\n",
              " 0.0980392156862745,\n",
              " 0.09722222222222221,\n",
              " 0.09783496732026142,\n",
              " 0.09579248366013071,\n",
              " 0.09109477124183002,\n",
              " 0.09313725490196079,\n",
              " 0.0855800653594771,\n",
              " 0.0951797385620915,\n",
              " 0.11172385620915032,\n",
              " 0.12275326797385616,\n",
              " 0.12806372549019607,\n",
              " 0.1313316993464052,\n",
              " 0.12479575163398693,\n",
              " 0.11090686274509798,\n",
              " 0.10743464052287577,\n",
              " 0.11621732026143788,\n",
              " 0.1168300653594771,\n",
              " 0.11764705882352938,\n",
              " 0.12888071895424835,\n",
              " 0.1284722222222222,\n",
              " 0.13337418300653592,\n",
              " 0.1423611111111111,\n",
              " 0.1409313725490196,\n",
              " 0.13970588235294118,\n",
              " 0.13827614379084963,\n",
              " 0.13541666666666663,\n",
              " 0.13010620915032678,\n",
              " 0.12254901960784315,\n",
              " 0.12479575163398693,\n",
              " 0.1384803921568627,\n",
              " 0.14011437908496732,\n",
              " 0.1388888888888889,\n",
              " 0.13541666666666663,\n",
              " 0.14011437908496732,\n",
              " 0.13807189542483655,\n",
              " 0.130718954248366,\n",
              " 0.130718954248366,\n",
              " 0.12867647058823528,\n",
              " 0.11846405228758167,\n",
              " 0.14644607843137253,\n",
              " 0.1480800653594771,\n",
              " 0.159109477124183,\n",
              " 0.15992647058823523,\n",
              " 0.1578839869281045,\n",
              " 0.16441993464052285,\n",
              " 0.178921568627451,\n",
              " 0.17933006535947704,\n",
              " 0.19260620915032678,\n",
              " 0.2081290849673203,\n",
              " 0.18974673202614378,\n",
              " 0.18055555555555558,\n",
              " 0.1823937908496731,\n",
              " 0.17708333333333326,\n",
              " 0.17810457516339862,\n",
              " 0.18055555555555558,\n",
              " 0.17810457516339862,\n",
              " 0.17851307189542487,\n",
              " 0.196078431372549,\n",
              " 0.18913398692810457,\n",
              " 0.1895424836601307,\n",
              " 0.19403594771241828,\n",
              " 0.19444444444444442,\n",
              " 0.20200163398692816,\n",
              " 0.19771241830065356,\n",
              " 0.19934640522875813,\n",
              " 0.19873366013071891,\n",
              " 0.19975490196078427,\n",
              " 0.21282679738562094,\n",
              " 0.21568627450980393,\n",
              " 0.2044526143790849,\n",
              " 0.21772875816993464,\n",
              " 0.21098856209150318,\n",
              " 0.21425653594771243,\n",
              " 0.1975081699346406,\n",
              " 0.1881127450980392,\n",
              " 0.17851307189542487,\n",
              " 0.17381535947712412,\n",
              " 0.16033496732026142,\n",
              " 0.16564542483660127,\n",
              " 0.1711601307189542,\n",
              " 0.17422385620915026,\n",
              " 0.1803513071895424,\n",
              " 0.1740196078431372,\n",
              " 0.16278594771241828,\n",
              " 0.1697303921568627,\n",
              " 0.17810457516339862,\n",
              " 0.1703431372549019,\n",
              " 0.16830065359477125,\n",
              " 0.17279411764705876,\n",
              " 0.1754493464052288,\n",
              " 0.18382352941176472,\n",
              " 0.19138071895424835,\n",
              " 0.18913398692810457,\n",
              " 0.1909722222222222,\n",
              " 0.17238562091503273,\n",
              " 0.16830065359477125,\n",
              " 0.16932189542483655,\n",
              " 0.1717728758169934,\n",
              " 0.16156045751633985,\n",
              " 0.14971405228758167,\n",
              " 0.15032679738562088,\n",
              " 0.1519607843137255,\n",
              " 0.1472630718954248,\n",
              " 0.14501633986928103,\n",
              " 0.14603758169934639,\n",
              " 0.12479575163398693,\n",
              " 0.13112745098039214,\n",
              " 0.11397058823529405,\n",
              " 0.11907679738562088,\n",
              " 0.12377450980392157,\n",
              " 0.13562091503267976,\n",
              " 0.12908496732026142,\n",
              " 0.1345996732026144,\n",
              " 0.12806372549019607,\n",
              " 0.13031045751633985,\n",
              " 0.12724673202614373,\n",
              " 0.13521241830065356,\n",
              " 0.1452205882352941,\n",
              " 0.15257352941176466,\n",
              " 0.14848856209150324,\n",
              " 0.14338235294117646,\n",
              " 0.14562908496732024,\n",
              " 0.1523692810457516,\n",
              " 0.15400326797385622,\n",
              " 0.14971405228758167,\n",
              " 0.16217320261437906,\n",
              " 0.16319444444444448,\n",
              " 0.16584967320261434]"
            ]
          },
          "metadata": {},
          "execution_count": 36
        }
      ],
      "source": [
        "temp_input"
      ]
    },
    {
      "cell_type": "code",
      "execution_count": 38,
      "metadata": {
        "id": "a7Jw6fdMtFqu"
      },
      "outputs": [],
      "source": [
        "day_new=np.arange(1,101)\n",
        "day_pred=np.arange(101,131)"
      ]
    },
    {
      "cell_type": "code",
      "execution_count": 39,
      "metadata": {
        "id": "-0fL6Y_-tFqv"
      },
      "outputs": [],
      "source": [
        "import matplotlib.pyplot as plt"
      ]
    },
    {
      "cell_type": "code",
      "execution_count": 40,
      "metadata": {
        "colab": {
          "base_uri": "https://localhost:8080/"
        },
        "id": "NT4Gh1MwtFqv",
        "outputId": "37160029-9085-43c7-a491-6d008fb92abf"
      },
      "outputs": [
        {
          "output_type": "execute_result",
          "data": {
            "text/plain": [
              "2035"
            ]
          },
          "metadata": {},
          "execution_count": 40
        }
      ],
      "source": [
        "len(df1)"
      ]
    },
    {
      "cell_type": "code",
      "execution_count": 42,
      "metadata": {
        "colab": {
          "base_uri": "https://localhost:8080/",
          "height": 282
        },
        "id": "frzx_gHFtFqw",
        "outputId": "296e90c3-96a7-42f8-f1f9-94fa99e7a983"
      },
      "outputs": [
        {
          "output_type": "execute_result",
          "data": {
            "text/plain": [
              "[<matplotlib.lines.Line2D at 0x7fe8eca44ad0>]"
            ]
          },
          "metadata": {},
          "execution_count": 42
        },
        {
          "output_type": "display_data",
          "data": {
            "text/plain": [
              "<Figure size 432x288 with 1 Axes>"
            ],
            "image/png": "[encoded data removed]"
          },
          "metadata": {
            "needs_background": "light"
          }
        }
      ],
      "source": [
        "df3=df1.tolist()\n",
        "df3.extend(lst_output)\n",
        "plt.plot(df3[1200:])"
      ]
    },
    {
      "cell_type": "code",
      "execution_count": 43,
      "metadata": {
        "id": "xo7KIm4BtFqw"
      },
      "outputs": [],
      "source": [
        "df3=scaler.inverse_transform(df3).tolist()"
      ]
    },
    {
      "cell_type": "code",
      "execution_count": 44,
      "metadata": {
        "colab": {
          "base_uri": "https://localhost:8080/",
          "height": 282
        },
        "id": "NJA2BLYytFqw",
        "outputId": "0df0c1a4-ef36-40f8-9915-ad11471f1e25"
      },
      "outputs": [
        {
          "output_type": "execute_result",
          "data": {
            "text/plain": [
              "[<matplotlib.lines.Line2D at 0x7fe8ecae6ed0>]"
            ]
          },
          "metadata": {},
          "execution_count": 44
        },
        {
          "output_type": "display_data",
          "data": {
            "text/plain": [
              "<Figure size 432x288 with 1 Axes>"
            ],
            "image/png": "[encoded data removed]"
          },
          "metadata": {
            "needs_background": "light"
          }
        }
      ],
      "source": [
        "plt.plot(df3)"
      ]
    }
  ],
  "metadata": {
    "kernelspec": {
      "display_name": "Python 3",
      "language": "python",
      "name": "python3"
    },
    "language_info": {
      "codemirror_mode": {
        "name": "ipython",
        "version": 3
      },
      "file_extension": ".py",
      "mimetype": "text/x-python",
      "name": "python",
      "nbconvert_exporter": "python",
      "pygments_lexer": "ipython3",
      "version": "3.8.8"
    },
    "colab": {
      "name": "Untitled.ipynb",
      "provenance": []
    }
  },
  "nbformat": 4,
  "nbformat_minor": 0
}